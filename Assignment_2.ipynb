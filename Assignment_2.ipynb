{
 "cells": [
  {
   "cell_type": "code",
   "execution_count": 17,
   "id": "b55c8e71-7ad6-406e-8d95-43859e7c3a03",
   "metadata": {},
   "outputs": [
    {
     "name": "stdout",
     "output_type": "stream",
     "text": [
      "Calculated Sample Size: 308\n"
     ]
    },
    {
     "name": "stderr",
     "output_type": "stream",
     "text": [
      "C:\\Users\\Angad\\AppData\\Local\\Programs\\Python\\Python310\\lib\\site-packages\\sklearn\\linear_model\\_logistic.py:465: ConvergenceWarning: lbfgs failed to converge (status=1):\n",
      "STOP: TOTAL NO. of ITERATIONS REACHED LIMIT.\n",
      "\n",
      "Increase the number of iterations (max_iter) or scale the data as shown in:\n",
      "    https://scikit-learn.org/stable/modules/preprocessing.html\n",
      "Please also refer to the documentation for alternative solver options:\n",
      "    https://scikit-learn.org/stable/modules/linear_model.html#logistic-regression\n",
      "  n_iter_i = _check_optimize_result(\n",
      "C:\\Users\\Angad\\AppData\\Local\\Programs\\Python\\Python310\\lib\\site-packages\\sklearn\\linear_model\\_logistic.py:465: ConvergenceWarning: lbfgs failed to converge (status=1):\n",
      "STOP: TOTAL NO. of ITERATIONS REACHED LIMIT.\n",
      "\n",
      "Increase the number of iterations (max_iter) or scale the data as shown in:\n",
      "    https://scikit-learn.org/stable/modules/preprocessing.html\n",
      "Please also refer to the documentation for alternative solver options:\n",
      "    https://scikit-learn.org/stable/modules/linear_model.html#logistic-regression\n",
      "  n_iter_i = _check_optimize_result(\n",
      "C:\\Users\\Angad\\AppData\\Local\\Programs\\Python\\Python310\\lib\\site-packages\\sklearn\\linear_model\\_logistic.py:465: ConvergenceWarning: lbfgs failed to converge (status=1):\n",
      "STOP: TOTAL NO. of ITERATIONS REACHED LIMIT.\n",
      "\n",
      "Increase the number of iterations (max_iter) or scale the data as shown in:\n",
      "    https://scikit-learn.org/stable/modules/preprocessing.html\n",
      "Please also refer to the documentation for alternative solver options:\n",
      "    https://scikit-learn.org/stable/modules/linear_model.html#logistic-regression\n",
      "  n_iter_i = _check_optimize_result(\n",
      "C:\\Users\\Angad\\AppData\\Local\\Programs\\Python\\Python310\\lib\\site-packages\\sklearn\\linear_model\\_logistic.py:465: ConvergenceWarning: lbfgs failed to converge (status=1):\n",
      "STOP: TOTAL NO. of ITERATIONS REACHED LIMIT.\n",
      "\n",
      "Increase the number of iterations (max_iter) or scale the data as shown in:\n",
      "    https://scikit-learn.org/stable/modules/preprocessing.html\n",
      "Please also refer to the documentation for alternative solver options:\n",
      "    https://scikit-learn.org/stable/modules/linear_model.html#logistic-regression\n",
      "  n_iter_i = _check_optimize_result(\n"
     ]
    },
    {
     "name": "stdout",
     "output_type": "stream",
     "text": [
      "Accuracy Results for Sampling Techniques and Models:\n",
      "    Sampling1  Sampling2  Sampling3   Sampling4   Sampling5\n",
      "M1  89.247312  92.473118  92.473118   82.795699   83.870968\n",
      "M2  95.698925  95.698925  95.698925  100.000000   96.774194\n",
      "M3  98.924731  98.924731  97.849462  100.000000  100.000000\n",
      "M4  73.118280  67.741935  67.741935   68.817204   67.741935\n",
      "M5  90.322581  94.623656  93.548387   92.473118   87.096774\n"
     ]
    },
    {
     "name": "stderr",
     "output_type": "stream",
     "text": [
      "C:\\Users\\Angad\\AppData\\Local\\Programs\\Python\\Python310\\lib\\site-packages\\sklearn\\linear_model\\_logistic.py:465: ConvergenceWarning: lbfgs failed to converge (status=1):\n",
      "STOP: TOTAL NO. of ITERATIONS REACHED LIMIT.\n",
      "\n",
      "Increase the number of iterations (max_iter) or scale the data as shown in:\n",
      "    https://scikit-learn.org/stable/modules/preprocessing.html\n",
      "Please also refer to the documentation for alternative solver options:\n",
      "    https://scikit-learn.org/stable/modules/linear_model.html#logistic-regression\n",
      "  n_iter_i = _check_optimize_result(\n"
     ]
    }
   ],
   "source": [
    "import pandas as pd\n",
    "import math\n",
    "from sklearn.model_selection import train_test_split\n",
    "from sklearn.linear_model import LogisticRegression\n",
    "from sklearn.tree import DecisionTreeClassifier\n",
    "from sklearn.ensemble import RandomForestClassifier\n",
    "from sklearn.svm import SVC\n",
    "from sklearn.neighbors import KNeighborsClassifier\n",
    "\n",
    "data = pd.read_csv(\"https://raw.githubusercontent.com/AnjulaMehto/Sampling_Assignment/main/Creditcard_data.csv\")\n",
    "\n",
    "minority_class = data[data['Class'] == 1]\n",
    "majority_class = data[data['Class'] == 0]\n",
    "\n",
    "minority_oversampled = minority_class.sample(len(majority_class), replace=True, random_state=42)\n",
    "\n",
    "balanced_data = pd.concat([majority_class, minority_oversampled]).sample(frac=1, random_state=42)\n",
    "\n",
    "\n",
    "N = len(balanced_data)  \n",
    "Z = 1.96 \n",
    "p = 0.5   \n",
    "e = 0.05  \n",
    "\n",
    "# Sample size formula\n",
    "n = (N * Z**2 * p * (1 - p)) / ((e**2 * (N - 1)) + (Z**2 * p * (1 - p)))\n",
    "sample_size = math.ceil(n)\n",
    "\n",
    "print(f\"Calculated Sample Size: {sample_size}\")\n",
    "\n",
    "# Step 3: Create five samples\n",
    "samples = []\n",
    "for i in range(5):\n",
    "    sample = balanced_data.sample(sample_size, random_state=42 + i)\n",
    "    samples.append(sample)\n",
    "\n",
    "\n",
    "sampling_techniques = [\"Sampling1\", \"Sampling2\", \"Sampling3\", \"Sampling4\", \"Sampling5\"]\n",
    "models = [\n",
    "    LogisticRegression(),\n",
    "    DecisionTreeClassifier(),\n",
    "    RandomForestClassifier(),\n",
    "    SVC(probability=True),\n",
    "    KNeighborsClassifier()\n",
    "]\n",
    "\n",
    "\n",
    "results = {}\n",
    "for i, sample in enumerate(samples):\n",
    "    X = sample.drop(columns=[\"Class\"])\n",
    "    y = sample[\"Class\"]\n",
    "    X_train, X_test, y_train, y_test = train_test_split(X, y, test_size=0.3, random_state=42)\n",
    "\n",
    "    technique_name = sampling_techniques[i]\n",
    "    results[technique_name] = {}\n",
    "\n",
    "    for j, model in enumerate(models):\n",
    "        model_name = f\"M{j + 1}\"\n",
    "        model.fit(X_train, y_train)\n",
    "        accuracy = model.score(X_test, y_test) * 100  # Accuracy in percentage\n",
    "        results[technique_name][model_name] = accuracy\n",
    "\n",
    "results_df = pd.DataFrame(results)\n",
    "print(\"accuracy results forsampling techniques and models:\")\n",
    "print(results_df)\n",
    "\n",
    "\n",
    "results_df.to_csv(\"Sampling_Assignment_Results.csv\", index=True)\n"
   ]
  },
  {
   "cell_type": "code",
   "execution_count": null,
   "id": "755cda60-3969-48cc-bd33-bfab58790a60",
   "metadata": {},
   "outputs": [],
   "source": []
  }
 ],
 "metadata": {
  "kernelspec": {
   "display_name": "Python 3 (ipykernel)",
   "language": "python",
   "name": "python3"
  },
  "language_info": {
   "codemirror_mode": {
    "name": "ipython",
    "version": 3
   },
   "file_extension": ".py",
   "mimetype": "text/x-python",
   "name": "python",
   "nbconvert_exporter": "python",
   "pygments_lexer": "ipython3",
   "version": "3.10.11"
  }
 },
 "nbformat": 4,
 "nbformat_minor": 5
}
